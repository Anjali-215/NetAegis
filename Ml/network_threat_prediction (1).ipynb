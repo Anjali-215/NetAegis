{
  "cells": [
    {
      "cell_type": "code",
      "execution_count": 1,
      "metadata": {
        "id": "Iwoy3PAGIwWo"
      },
      "outputs": [],
      "source": [
        "import pandas as pd\n",
        "import numpy as np\n",
        "import matplotlib.pyplot as plt\n",
        "import seaborn as sns\n",
        "import warnings\n",
        "warnings.filterwarnings('ignore')"
      ]
    },
    {
      "cell_type": "code",
      "execution_count": 7,
      "metadata": {
        "colab": {
          "base_uri": "https://localhost:8080/",
          "height": 255
        },
        "id": "q-tqVmRAKe0X",
        "outputId": "d1cba480-9a10-44e3-d610-018eade49877"
      },
      "outputs": [
        {
          "data": {
            "text/html": [
              "<div>\n",
              "<style scoped>\n",
              "    .dataframe tbody tr th:only-of-type {\n",
              "        vertical-align: middle;\n",
              "    }\n",
              "\n",
              "    .dataframe tbody tr th {\n",
              "        vertical-align: top;\n",
              "    }\n",
              "\n",
              "    .dataframe thead th {\n",
              "        text-align: right;\n",
              "    }\n",
              "</style>\n",
              "<table border=\"1\" class=\"dataframe\">\n",
              "  <thead>\n",
              "    <tr style=\"text-align: right;\">\n",
              "      <th></th>\n",
              "      <th>src_ip</th>\n",
              "      <th>src_port</th>\n",
              "      <th>dst_ip</th>\n",
              "      <th>dst_port</th>\n",
              "      <th>proto</th>\n",
              "      <th>service</th>\n",
              "      <th>duration</th>\n",
              "      <th>src_bytes</th>\n",
              "      <th>dst_bytes</th>\n",
              "      <th>conn_state</th>\n",
              "      <th>...</th>\n",
              "      <th>dns_rcode</th>\n",
              "      <th>dns_AA</th>\n",
              "      <th>dns_RD</th>\n",
              "      <th>dns_RA</th>\n",
              "      <th>dns_rejected</th>\n",
              "      <th>http_request_body_len</th>\n",
              "      <th>http_response_body_len</th>\n",
              "      <th>http_status_code</th>\n",
              "      <th>label</th>\n",
              "      <th>type</th>\n",
              "    </tr>\n",
              "  </thead>\n",
              "  <tbody>\n",
              "    <tr>\n",
              "      <th>0</th>\n",
              "      <td>192.168.1.37</td>\n",
              "      <td>4444</td>\n",
              "      <td>192.168.1.193</td>\n",
              "      <td>49178</td>\n",
              "      <td>tcp</td>\n",
              "      <td>-</td>\n",
              "      <td>290.371539</td>\n",
              "      <td>101568</td>\n",
              "      <td>2592</td>\n",
              "      <td>OTH</td>\n",
              "      <td>...</td>\n",
              "      <td>0</td>\n",
              "      <td>none</td>\n",
              "      <td>none</td>\n",
              "      <td>none</td>\n",
              "      <td>none</td>\n",
              "      <td>0</td>\n",
              "      <td>0</td>\n",
              "      <td>0</td>\n",
              "      <td>1</td>\n",
              "      <td>backdoor</td>\n",
              "    </tr>\n",
              "    <tr>\n",
              "      <th>1</th>\n",
              "      <td>192.168.1.193</td>\n",
              "      <td>49180</td>\n",
              "      <td>192.168.1.37</td>\n",
              "      <td>8080</td>\n",
              "      <td>tcp</td>\n",
              "      <td>-</td>\n",
              "      <td>0.000102</td>\n",
              "      <td>0</td>\n",
              "      <td>0</td>\n",
              "      <td>REJ</td>\n",
              "      <td>...</td>\n",
              "      <td>0</td>\n",
              "      <td>none</td>\n",
              "      <td>none</td>\n",
              "      <td>none</td>\n",
              "      <td>none</td>\n",
              "      <td>0</td>\n",
              "      <td>0</td>\n",
              "      <td>0</td>\n",
              "      <td>1</td>\n",
              "      <td>backdoor</td>\n",
              "    </tr>\n",
              "    <tr>\n",
              "      <th>2</th>\n",
              "      <td>192.168.1.193</td>\n",
              "      <td>49180</td>\n",
              "      <td>192.168.1.37</td>\n",
              "      <td>8080</td>\n",
              "      <td>tcp</td>\n",
              "      <td>-</td>\n",
              "      <td>0.000148</td>\n",
              "      <td>0</td>\n",
              "      <td>0</td>\n",
              "      <td>REJ</td>\n",
              "      <td>...</td>\n",
              "      <td>0</td>\n",
              "      <td>none</td>\n",
              "      <td>none</td>\n",
              "      <td>none</td>\n",
              "      <td>none</td>\n",
              "      <td>0</td>\n",
              "      <td>0</td>\n",
              "      <td>0</td>\n",
              "      <td>1</td>\n",
              "      <td>backdoor</td>\n",
              "    </tr>\n",
              "    <tr>\n",
              "      <th>3</th>\n",
              "      <td>192.168.1.193</td>\n",
              "      <td>49180</td>\n",
              "      <td>192.168.1.37</td>\n",
              "      <td>8080</td>\n",
              "      <td>tcp</td>\n",
              "      <td>-</td>\n",
              "      <td>0.000113</td>\n",
              "      <td>0</td>\n",
              "      <td>0</td>\n",
              "      <td>REJ</td>\n",
              "      <td>...</td>\n",
              "      <td>0</td>\n",
              "      <td>none</td>\n",
              "      <td>none</td>\n",
              "      <td>none</td>\n",
              "      <td>none</td>\n",
              "      <td>0</td>\n",
              "      <td>0</td>\n",
              "      <td>0</td>\n",
              "      <td>1</td>\n",
              "      <td>backdoor</td>\n",
              "    </tr>\n",
              "    <tr>\n",
              "      <th>4</th>\n",
              "      <td>192.168.1.193</td>\n",
              "      <td>49180</td>\n",
              "      <td>192.168.1.37</td>\n",
              "      <td>8080</td>\n",
              "      <td>tcp</td>\n",
              "      <td>-</td>\n",
              "      <td>0.000130</td>\n",
              "      <td>0</td>\n",
              "      <td>0</td>\n",
              "      <td>REJ</td>\n",
              "      <td>...</td>\n",
              "      <td>0</td>\n",
              "      <td>none</td>\n",
              "      <td>none</td>\n",
              "      <td>none</td>\n",
              "      <td>none</td>\n",
              "      <td>0</td>\n",
              "      <td>0</td>\n",
              "      <td>0</td>\n",
              "      <td>1</td>\n",
              "      <td>backdoor</td>\n",
              "    </tr>\n",
              "  </tbody>\n",
              "</table>\n",
              "<p>5 rows × 28 columns</p>\n",
              "</div>"
            ],
            "text/plain": [
              "          src_ip  src_port         dst_ip  dst_port proto service    duration  \\\n",
              "0   192.168.1.37      4444  192.168.1.193     49178   tcp       -  290.371539   \n",
              "1  192.168.1.193     49180   192.168.1.37      8080   tcp       -    0.000102   \n",
              "2  192.168.1.193     49180   192.168.1.37      8080   tcp       -    0.000148   \n",
              "3  192.168.1.193     49180   192.168.1.37      8080   tcp       -    0.000113   \n",
              "4  192.168.1.193     49180   192.168.1.37      8080   tcp       -    0.000130   \n",
              "\n",
              "   src_bytes  dst_bytes conn_state  ...  dns_rcode  dns_AA  dns_RD  dns_RA  \\\n",
              "0     101568       2592        OTH  ...          0    none    none    none   \n",
              "1          0          0        REJ  ...          0    none    none    none   \n",
              "2          0          0        REJ  ...          0    none    none    none   \n",
              "3          0          0        REJ  ...          0    none    none    none   \n",
              "4          0          0        REJ  ...          0    none    none    none   \n",
              "\n",
              "   dns_rejected http_request_body_len  http_response_body_len  \\\n",
              "0          none                     0                       0   \n",
              "1          none                     0                       0   \n",
              "2          none                     0                       0   \n",
              "3          none                     0                       0   \n",
              "4          none                     0                       0   \n",
              "\n",
              "   http_status_code  label      type  \n",
              "0                 0      1  backdoor  \n",
              "1                 0      1  backdoor  \n",
              "2                 0      1  backdoor  \n",
              "3                 0      1  backdoor  \n",
              "4                 0      1  backdoor  \n",
              "\n",
              "[5 rows x 28 columns]"
            ]
          },
          "execution_count": 7,
          "metadata": {},
          "output_type": "execute_result"
        }
      ],
      "source": [
        "df = pd.read_csv(\"C:/Users/ANJALIKRISHNA/Desktop/NetAegis/Ml/cleaned_network_data.csv\")\n",
        "df.head()"
      ]
    },
    {
      "cell_type": "code",
      "execution_count": 11,
      "metadata": {
        "colab": {
          "base_uri": "https://localhost:8080/"
        },
        "id": "4iQM2di6z6N5",
        "outputId": "642c809e-9315-4773-db49-819ac3b49caa"
      },
      "outputs": [
        {
          "name": "stdout",
          "output_type": "stream",
          "text": [
            "Class 'backdoor' has 18711 samples\n",
            "Class 'ddos' has 19993 samples\n",
            "Class 'dos' has 18992 samples\n",
            "Class 'injection' has 19964 samples\n",
            "Class 'mitm' has 1041 samples\n",
            "Class 'normal' has 42021 samples\n",
            "Class 'password' has 19861 samples\n",
            "Class 'ransomware' has 14735 samples\n",
            "Class 'scanning' has 20000 samples\n",
            "Class 'xss' has 15137 samples\n"
          ]
        }
      ],
      "source": [
        "import numpy as np\n",
        "from sklearn.preprocessing import LabelEncoder\n",
        "# Use 'type' as your target column\n",
        "y_raw = df['type']\n",
        "\n",
        "# Encode labels into numbers\n",
        "le = LabelEncoder()\n",
        "y = le.fit_transform(y_raw)\n",
        "unique, counts = np.unique(y, return_counts=True)\n",
        "for label, count in zip(le.inverse_transform(unique), counts):\n",
        "    print(f\"Class '{label}' has {count} samples\")\n"
      ]
    },
    {
      "cell_type": "code",
      "execution_count": 12,
      "metadata": {
        "id": "VI8KsPc90BVr"
      },
      "outputs": [],
      "source": [
        "# Find and remove rows where the original 'type' column is NaN or 'nan'\n",
        "df = df[df['type'].notna()]                    # Remove actual NaNs\n",
        "df = df[df['type'].str.lower() != 'nan']       # Remove string 'nan' if present\n"
      ]
    },
    {
      "cell_type": "code",
      "execution_count": 13,
      "metadata": {
        "id": "M_kGHyPwR_St"
      },
      "outputs": [],
      "source": [
        "\n",
        "from sklearn.model_selection import train_test_split\n",
        "from xgboost import XGBClassifier\n",
        "from sklearn.metrics import accuracy_score, classification_report\n",
        "from sklearn.preprocessing import LabelEncoder\n",
        "\n",
        "# Drop columns that are not useful for training and are not present in the dataframe\n",
        "columns_to_drop = ['Flow ID', 'Source IP', 'Destination IP', 'Timestamp']\n",
        "existing_columns_to_drop = [col for col in columns_to_drop if col in df.columns]\n",
        "df = df.drop(existing_columns_to_drop, axis=1)\n",
        "\n",
        "# Separate features (X) and target (y)\n",
        "X = df.drop('type', axis=1)\n",
        "y = df['type']\n",
        "\n",
        "# Convert target variable to numerical labels if it's categorical\n",
        "le = LabelEncoder()\n",
        "y = le.fit_transform(y)\n",
        "\n"
      ]
    },
    {
      "cell_type": "code",
      "execution_count": 14,
      "metadata": {
        "id": "uzaO0JbESf5M"
      },
      "outputs": [],
      "source": [
        "# Convert object columns to category dtype\n",
        "for col in X.select_dtypes(include='object').columns:\n",
        "    X[col] = X[col].astype('category')\n"
      ]
    },
    {
      "cell_type": "code",
      "execution_count": 15,
      "metadata": {
        "colab": {
          "base_uri": "https://localhost:8080/"
        },
        "id": "PXHT8kHizr4o",
        "outputId": "ceb6486b-52ba-4c99-c38d-56ce3f444bee"
      },
      "outputs": [
        {
          "name": "stdout",
          "output_type": "stream",
          "text": [
            "Accuracy: 0.9967971436822346\n",
            "Classification Report:\n",
            "              precision    recall  f1-score   support\n",
            "\n",
            "    backdoor       1.00      1.00      1.00      3742\n",
            "        ddos       1.00      0.99      1.00      3999\n",
            "         dos       1.00      0.99      0.99      3798\n",
            "   injection       0.99      0.99      0.99      3993\n",
            "        mitm       0.94      0.95      0.94       208\n",
            "      normal       1.00      1.00      1.00      8404\n",
            "    password       1.00      1.00      1.00      3972\n",
            "  ransomware       1.00      1.00      1.00      2947\n",
            "    scanning       0.99      0.99      0.99      4000\n",
            "         xss       1.00      1.00      1.00      3028\n",
            "\n",
            "    accuracy                           1.00     38091\n",
            "   macro avg       0.99      0.99      0.99     38091\n",
            "weighted avg       1.00      1.00      1.00     38091\n",
            "\n"
          ]
        }
      ],
      "source": [
        "# Split again after conversion\n",
        "X_train, X_test, y_train, y_test = train_test_split(\n",
        "    X, y, test_size=0.2, random_state=42, stratify=y\n",
        ")\n",
        "\n",
        "# Re-initialize and train model\n",
        "model = XGBClassifier(use_label_encoder=False, eval_metric='mlogloss', enable_categorical=True)\n",
        "model.fit(X_train, y_train)\n",
        "\n",
        "# Evaluate\n",
        "y_pred = model.predict(X_test)\n",
        "accuracy = accuracy_score(y_test, y_pred)\n",
        "report = classification_report(y_test, y_pred, target_names=le.classes_)\n",
        "\n",
        "print(f\"Accuracy: {accuracy}\")\n",
        "print(\"Classification Report:\")\n",
        "print(report)\n"
      ]
    },
    {
      "cell_type": "code",
      "execution_count": 19,
      "metadata": {
        "colab": {
          "base_uri": "https://localhost:8080/"
        },
        "id": "eqQotBSI0Vnc",
        "outputId": "da344ae4-40df-42d3-96ec-bb0be1788cea"
      },
      "outputs": [
        {
          "data": {
            "text/plain": [
              "['xgboost_model.pkl']"
            ]
          },
          "execution_count": 19,
          "metadata": {},
          "output_type": "execute_result"
        }
      ],
      "source": [
        "import joblib\n",
        "\n",
        "# Save the trained model\n",
        "joblib.dump(model, 'xgboost_model.pkl')\n"
      ]
    },
    {
      "cell_type": "code",
      "execution_count": 20,
      "metadata": {
        "colab": {
          "base_uri": "https://localhost:8080/",
          "height": 17
        },
        "id": "I-h3npTh0ykR",
        "outputId": "62ce3447-23d5-44c8-b6ff-3095d9402164"
      },
      "outputs": [],
      "source": [
        "import pickle\n",
        "\n",
        "with open(\"xgboost_model.pkl\", \"wb\") as f:\n",
        "    pickle.dump(model, f)\n"
      ]
    },
    {
      "cell_type": "code",
      "execution_count": 22,
      "metadata": {
        "colab": {
          "base_uri": "https://localhost:8080/"
        },
        "id": "TRo8S4xH00Wd",
        "outputId": "2d758e72-6abd-466f-b289-c7cd0ba99566"
      },
      "outputs": [
        {
          "name": "stdout",
          "output_type": "stream",
          "text": [
            "Accuracy: 0.9959045443805623\n",
            "Classification Report:\n",
            "              precision    recall  f1-score   support\n",
            "\n",
            "    backdoor       1.00      1.00      1.00      3742\n",
            "        ddos       0.99      0.99      0.99      3999\n",
            "         dos       0.99      0.99      0.99      3798\n",
            "   injection       0.99      0.99      0.99      3993\n",
            "        mitm       0.93      0.91      0.92       208\n",
            "      normal       1.00      1.00      1.00      8404\n",
            "    password       1.00      1.00      1.00      3972\n",
            "  ransomware       1.00      1.00      1.00      2947\n",
            "    scanning       0.99      0.99      0.99      4000\n",
            "         xss       1.00      1.00      1.00      3028\n",
            "\n",
            "    accuracy                           1.00     38091\n",
            "   macro avg       0.99      0.99      0.99     38091\n",
            "weighted avg       1.00      1.00      1.00     38091\n",
            "\n"
          ]
        }
      ],
      "source": [
        "from sklearn.preprocessing import LabelEncoder\n",
        "from sklearn.ensemble import RandomForestClassifier\n",
        "\n",
        "\n",
        "# Encode object or category columns\n",
        "for col in X.select_dtypes(include=['object', 'category']).columns:\n",
        "    le_col = LabelEncoder()\n",
        "    X[col] = le_col.fit_transform(X[col])\n",
        "\n",
        "# Split dataset\n",
        "X_train, X_test, y_train, y_test = train_test_split(\n",
        "    X, y, test_size=0.2, random_state=42, stratify=y\n",
        ")\n",
        "\n",
        "# Train RandomForest model\n",
        "rf_model = RandomForestClassifier(n_estimators=100, random_state=42)\n",
        "rf_model.fit(X_train, y_train)\n",
        "\n",
        "# Evaluate\n",
        "y_pred = rf_model.predict(X_test)\n",
        "accuracy = accuracy_score(y_test, y_pred)\n",
        "report = classification_report(y_test, y_pred, target_names=le.classes_)\n",
        "\n",
        "print(f\"Accuracy: {accuracy}\")\n",
        "print(\"Classification Report:\")\n",
        "print(report)\n",
        "\n",
        "\n"
      ]
    },
    {
      "cell_type": "code",
      "execution_count": 24,
      "metadata": {
        "colab": {
          "base_uri": "https://localhost:8080/",
          "height": 17
        },
        "id": "IccYT38g1A0i",
        "outputId": "270f6339-e095-47d6-c9dc-69a837c3d16d"
      },
      "outputs": [],
      "source": [
        "# Save model\n",
        "joblib.dump(rf_model, 'random_forest_model.pkl')\n",
        "\n",
        "import pickle\n",
        "\n",
        "with open(\"random_forest_model.pkl\", \"wb\") as f:\n",
        "    pickle.dump(model, f)\n",
        "\n"
      ]
    },
    {
      "cell_type": "code",
      "execution_count": 25,
      "metadata": {
        "colab": {
          "base_uri": "https://localhost:8080/"
        },
        "id": "W2AWmm-F1d3P",
        "outputId": "1a3331b7-d4b4-4473-f4dd-8d9d7838bae1"
      },
      "outputs": [
        {
          "name": "stdout",
          "output_type": "stream",
          "text": [
            "   True Label XGBoost Prediction Random Forest Prediction\n",
            "0      normal             normal                   normal\n",
            "1        ddos               ddos                     ddos\n",
            "2        mitm               mitm                     mitm\n",
            "3        ddos               ddos                     ddos\n",
            "4    backdoor           backdoor                 backdoor\n",
            "5      normal             normal                   normal\n",
            "6        ddos               ddos                     ddos\n",
            "7      normal             normal                   normal\n",
            "8   injection          injection                injection\n",
            "9    password           password                 password\n",
            "10   scanning           scanning                 scanning\n",
            "11   scanning           scanning                 scanning\n",
            "12     normal             normal                   normal\n",
            "13        dos                dos                      dos\n",
            "14  injection          injection                injection\n",
            "15     normal             normal                   normal\n",
            "16        xss                xss                      xss\n",
            "17     normal             normal                   normal\n",
            "18        xss                xss                      xss\n",
            "19   password           password                 password\n"
          ]
        }
      ],
      "source": [
        "# Get predictions\n",
        "xgb_preds = model.predict(X_test)\n",
        "rf_preds = rf_model.predict(X_test)\n",
        "\n",
        "# Decode back to class labels\n",
        "xgb_labels = le.inverse_transform(xgb_preds)\n",
        "rf_labels = le.inverse_transform(rf_preds)\n",
        "true_labels = le.inverse_transform(y_test)\n",
        "\n",
        "# Create a comparison DataFrame\n",
        "import pandas as pd\n",
        "\n",
        "comparison_df = pd.DataFrame({\n",
        "    'True Label': true_labels,\n",
        "    'XGBoost Prediction': xgb_labels,\n",
        "    'Random Forest Prediction': rf_labels\n",
        "})\n",
        "\n",
        "# Show the first few rows\n",
        "print(comparison_df.head(20))\n"
      ]
    },
    {
      "cell_type": "code",
      "execution_count": null,
      "metadata": {
        "id": "l9LiqUSh1q2r"
      },
      "outputs": [],
      "source": []
    }
  ],
  "metadata": {
    "colab": {
      "provenance": []
    },
    "kernelspec": {
      "display_name": "Python 3",
      "name": "python3"
    },
    "language_info": {
      "codemirror_mode": {
        "name": "ipython",
        "version": 3
      },
      "file_extension": ".py",
      "mimetype": "text/x-python",
      "name": "python",
      "nbconvert_exporter": "python",
      "pygments_lexer": "ipython3",
      "version": "3.12.4"
    }
  },
  "nbformat": 4,
  "nbformat_minor": 0
}
